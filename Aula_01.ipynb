{
  "nbformat": 4,
  "nbformat_minor": 0,
  "metadata": {
    "colab": {
      "name": "Untitled",
      "provenance": [],
      "collapsed_sections": []
    },
    "kernelspec": {
      "name": "python3",
      "display_name": "Python 3"
    }
  },
  "cells": [
    {
      "cell_type": "code",
      "metadata": {
        "id": "ciBtk0OOzrp2",
        "colab_type": "code",
        "colab": {}
      },
      "source": [
        "import pandas as pd\n",
        "from   scipy.stats import binom\n",
        "import seaborn as sb\n",
        "import matplotlib.pyplot as plt\n",
        "import numpy as np\n",
        "import math\n"
      ],
      "execution_count": 0,
      "outputs": []
    },
    {
      "cell_type": "markdown",
      "metadata": {
        "id": "Zx4-6zIx0c8N",
        "colab_type": "text"
      },
      "source": [
        "$$ \\begin{align*}\n",
        "    P[E]=\\frac{N_E}{N_S}\\\\\n",
        "      =\\frac{\\textrm{Número de resultados no evento E}}{\\textrm{Número total de resultados em S}}\n",
        "\\end{align*} $$\n",
        "\n",
        "\n",
        "\n"
      ]
    },
    {
      "cell_type": "code",
      "metadata": {
        "id": "heNqD79b01CN",
        "colab_type": "code",
        "outputId": "5886334d-c101-46d9-921f-55de0492f571",
        "colab": {
          "base_uri": "https://localhost:8080/",
          "height": 34
        }
      },
      "source": [
        "# Criando uma função que determina a probabilidade\n",
        "def P_E(resultados_eventos, resultado_espaco):\n",
        "    probabilidade = (resultados_eventos / resultado_espaco) * 100\n",
        "    return round(probabilidade, 1)\n",
        "\n",
        "# Espaço amostral cartas\n",
        "\n",
        "cartas = 52\n",
        "carta = 1\n",
        "probabilidade_as = P_E(carta,cartas)\n",
        "\n",
        "\n",
        "# Mostra o resultado\n",
        "print(str(probabilidade_as ) + '%')\n"
      ],
      "execution_count": 0,
      "outputs": [
        {
          "output_type": "stream",
          "text": [
            "1.9%\n"
          ],
          "name": "stdout"
        }
      ]
    },
    {
      "cell_type": "markdown",
      "metadata": {
        "id": "vpAWOD148IIo",
        "colab_type": "text"
      },
      "source": [
        "Retirada sem reposição:\n",
        "\n",
        "\\begin{align*}\n",
        "    (N)_r =N(N-1) \\dots (N-r+1) = \\mathbf{\\frac{N!}{(N-r)!}} \\\\\n",
        "    \\textrm{considerando r-tuplas}\n",
        "\\end{align*}"
      ]
    },
    {
      "cell_type": "code",
      "metadata": {
        "id": "LEh8D6Z27jsP",
        "colab_type": "code",
        "outputId": "fb6e8329-cae0-40f8-db27-da9bba51c97a",
        "colab": {
          "base_uri": "https://localhost:8080/",
          "height": 34
        }
      },
      "source": [
        "# Criando uma função que determina permutacoes\n",
        "def perm(N,r):\n",
        "    permutacoes = math.factorial(N)/math.factorial(N-r)\n",
        "    return round(permutacoes, 1)\n",
        "\n",
        "# Espaço amostral cartas\n",
        "\n",
        "cartas = 52\n",
        "mao = 5\n",
        "permutacoes_mao = perm(cartas,mao)\n",
        "\n",
        "\n",
        "# Mostra o resultado\n",
        "print(str(permutacoes_mao))\n"
      ],
      "execution_count": 117,
      "outputs": [
        {
          "output_type": "stream",
          "text": [
            "311875200.0\n"
          ],
          "name": "stdout"
        }
      ]
    },
    {
      "cell_type": "markdown",
      "metadata": {
        "id": "e53G-T-u8S2S",
        "colab_type": "text"
      },
      "source": [
        "\\begin{align*}\n",
        "\\binom{N}{k} = \\frac{(N)_k}{k!} = \\frac{N!}{(N-k)!k!}\n",
        "\\end{align*}"
      ]
    },
    {
      "cell_type": "code",
      "metadata": {
        "id": "_34-rf1H8ZNx",
        "colab_type": "code",
        "outputId": "283988da-86ec-4fae-f926-c12e1663f2c4",
        "colab": {
          "base_uri": "https://localhost:8080/",
          "height": 34
        }
      },
      "source": [
        "# Criando uma função que determina combinações\n",
        "def comb(N,r):\n",
        "    combinacoes = math.factorial(N)/(math.factorial(r)*math.factorial(N-r))\n",
        "    return round(combinacoes, 1)\n",
        "\n",
        "# Espaço amostral cartas\n",
        "\n",
        "cartas = 52\n",
        "mao = 5\n",
        "combinacoes_mao = comb(cartas,mao)\n",
        "\n",
        "\n",
        "# Mostra o resultado\n",
        "print(str(combinacoes_mao))"
      ],
      "execution_count": 0,
      "outputs": [
        {
          "output_type": "stream",
          "text": [
            "2598960.0\n"
          ],
          "name": "stdout"
        }
      ]
    },
    {
      "cell_type": "markdown",
      "metadata": {
        "id": "237Z0p5q86Jr",
        "colab_type": "text"
      },
      "source": [
        "**Problema 01** - Supondo um grupo de N pessoas, qual a probabilidade de que ao menos duas pessoas tenham nascido no mesmo dia?\n"
      ]
    },
    {
      "cell_type": "code",
      "metadata": {
        "id": "69BtCfEa9INb",
        "colab_type": "code",
        "outputId": "6068aed0-d48c-4874-84b2-6ac780d3aa59",
        "colab": {
          "base_uri": "https://localhost:8080/",
          "height": 296
        }
      },
      "source": [
        "x = np.linspace(0,50,51)\n",
        "P = [0]\n",
        "for i in range(0,51):\n",
        "    aux = 1 - perm(365,x[i])/365**x[i]\n",
        "    P.append(aux)\n",
        "\n",
        "########\n",
        "\n",
        "plt.plot(P)\n",
        "plt.xlabel('Número de pessoas')\n",
        "plt.ylabel('Probabilidade')\n",
        "plt.title('Pelo menos duas pessoas com a mesma data de aniversário')\n",
        "plt.grid(True)\n",
        "\n",
        "plt.show()\n",
        "\n"
      ],
      "execution_count": 106,
      "outputs": [
        {
          "output_type": "display_data",
          "data": {
            "image/png": "[encoded data removed]",
            "text/plain": [
              "<Figure size 432x288 with 1 Axes>"
            ]
          },
          "metadata": {
            "tags": []
          }
        }
      ]
    },
    {
      "cell_type": "code",
      "metadata": {
        "id": "Rpyyo3wp_p0f",
        "colab_type": "code",
        "outputId": "3c48b2f6-000d-4661-c0a3-61999cee8cf9",
        "colab": {
          "base_uri": "https://localhost:8080/",
          "height": 34
        }
      },
      "source": [
        "# Mostra o resultado\n",
        "print(str(aux))"
      ],
      "execution_count": 0,
      "outputs": [
        {
          "output_type": "stream",
          "text": [
            "0.9703735795779884\n"
          ],
          "name": "stdout"
        }
      ]
    },
    {
      "cell_type": "markdown",
      "metadata": {
        "id": "FaB-z5omERoh",
        "colab_type": "text"
      },
      "source": [
        "**Distribuição Binomial** \n",
        "O modelo de distribuição binomial trata da probabilidade de sucesso que um evento que possui apenas dois resultados possíveis em uma série de experimentos. Por exemplo, jogar uma moeda: cara ou coroa. Em essência a distribuiçõa trata de sucesso ou fracasso.\n",
        "\n",
        "\\begin{align*}\n",
        "P[E] = P[X=k] = \\binom{N}{k} p^k (1-p)^k\n",
        "\\end{align*}"
      ]
    },
    {
      "cell_type": "code",
      "metadata": {
        "id": "L4mEfKhZEWdR",
        "colab_type": "code",
        "outputId": "ba618d7a-97b8-466d-9a6f-2e55dfc4e41a",
        "colab": {
          "base_uri": "https://localhost:8080/",
          "height": 34
        }
      },
      "source": [
        "n, p = 20, 0.8\n",
        "mean, var, skew, kurt = binom.stats(n, p, moments='mvsk')\n",
        "\n",
        "# Mostra o resultado\n",
        "print(str(mean))          "
      ],
      "execution_count": 0,
      "outputs": [
        {
          "output_type": "stream",
          "text": [
            "16.0\n"
          ],
          "name": "stdout"
        }
      ]
    },
    {
      "cell_type": "code",
      "metadata": {
        "id": "ALzB9w2iKCaN",
        "colab_type": "code",
        "outputId": "f3f88577-c225-4328-8703-5ced222249b5",
        "colab": {
          "base_uri": "https://localhost:8080/",
          "height": 296
        }
      },
      "source": [
        "data_binom = binom.rvs(n=20,p=0.8,loc=0,size=1000)\n",
        "ax = sb.distplot(data_binom,\n",
        "                  kde=True,\n",
        "                  color='blue',\n",
        "                  hist_kws={\"linewidth\": 25,'alpha':1})\n",
        "ax.set(xlabel='k - sucessos', ylabel='Probabilidade')"
      ],
      "execution_count": 0,
      "outputs": [
        {
          "output_type": "execute_result",
          "data": {
            "text/plain": [
              "[Text(0, 0.5, 'Probabilidade'), Text(0.5, 0, 'k - sucessos')]"
            ]
          },
          "metadata": {
            "tags": []
          },
          "execution_count": 86
        },
        {
          "output_type": "display_data",
          "data": {
            "image/png": "[encoded data removed]",
            "text/plain": [
              "<Figure size 432x288 with 1 Axes>"
            ]
          },
          "metadata": {
            "tags": []
          }
        }
      ]
    },
    {
      "cell_type": "markdown",
      "metadata": {
        "id": "sxKxSIhvO5Di",
        "colab_type": "text"
      },
      "source": [
        "**Problema 02 -  Controle de qualidade** Com o intuito de investigar uma reclamação acerca de produtos defeituosos, o gestor de compras de um Hospital deciciu contratar uma empresa para realizar um teste sistemático. O objetivo é **aceitar ou rejeitar** um determinado lote controlado. Cada lote possui 1000 produtos e deicidiu-se testar 100 amostras de cada lote e avaliá-las. A tomada de decisão será feita de acordo com o critério: se houver um total de 95% ou mais de produtos **bons** o lote será **aceito**, caso contrário, será **rejeitado.**  Para o caso de um lote defeituoso a proporção de produtos bons é dada por **p** e defeituosos por **(1-p)**. Verifique como a probabilidade de aceitarmos um lote defeituoso varia de acordo com a proporção **p**. Qual a probabilidade de aceitação de um lote defeituoso caso $$p=0.94$$."
      ]
    },
    {
      "cell_type": "markdown",
      "metadata": {
        "id": "jvhmWfF1hKTS",
        "colab_type": "text"
      },
      "source": [
        "**Solução** Vamos começar para o caso onde a proporção de um lote defeituoso é $$p=0.94$$,A pergunta é: qual a probabilidade de tirarmos um produto **bom** quando o lote é defeituoso? Para estimar esta probabilidade (pois não há reposição) podemos utilizar a distribuição binomial para $$N=100 \\; k=95$$\n",
        "\n",
        "\n",
        "\\begin{align*}\n",
        "P[X=95] =  \\binom{N}{k} p^k (1-p)^k = \\binom{100}{95} 0.94^{95} (1-0.94)^{95}\n",
        "\\end{align*}\n",
        "\n",
        "No entanto se obtivermos 96 produtos bons o lote defeituoso também será aceito (!) o que inclui as quantidades: 97, 98, 99 e 100. Desta forma a probabilidade de aceitarmos um lote defeituos pode ser calculada por:\n",
        "\n",
        "\\begin{align*}\n",
        "P[E] = P[X\\geq95] = \\sum_{k=95}^{100} \\binom{N}{k} p^k (1-p)^k \n",
        "\\end{align*}\n",
        "\n",
        "Obervser que neste caso temos \"**maior ou igual**\" e não \"**igual**\" \n"
      ]
    },
    {
      "cell_type": "code",
      "metadata": {
        "id": "QwoN4v-lisss",
        "colab_type": "code",
        "outputId": "93214200-89fd-4a32-8911-6df3b95ca408",
        "colab": {
          "base_uri": "https://localhost:8080/",
          "height": 296
        }
      },
      "source": [
        "from scipy.stats import binom\n",
        "import matplotlib.pyplot as plt\n",
        "import numpy as np\n",
        "\n",
        "\n",
        "p = np.linspace(0.9,0.95,100)\n",
        "k = np.linspace(95, 100, 6)\n",
        "P = np.zeros((100,))\n",
        "for j in range(0,6):\n",
        "  Pk = np.zeros((100,))\n",
        "  for i in range(0,100):\n",
        "    aux = binom.pmf(k[j],100,p[i],loc=0)\n",
        "    Pk[i] = Pk[i] + aux\n",
        "  P = P + Pk\n",
        "\n",
        "########\n",
        "plt.plot(p,P)\n",
        "plt.xlabel('Número de pessoas')\n",
        "plt.ylabel('Probabilidade')\n",
        "plt.title('Pelo menos duas pessoas com a mesma data de aniversário')\n",
        "plt.grid(True)\n",
        "plt.show()\n",
        "\n"
      ],
      "execution_count": 132,
      "outputs": [
        {
          "output_type": "display_data",
          "data": {
            "image/png": "[encoded data removed]",
            "text/plain": [
              "<Figure size 432x288 with 1 Axes>"
            ]
          },
          "metadata": {
            "tags": []
          }
        }
      ]
    },
    {
      "cell_type": "code",
      "metadata": {
        "id": "yJaoJyj_3veH",
        "colab_type": "code",
        "colab": {
          "base_uri": "https://localhost:8080/",
          "height": 34
        },
        "outputId": "01859da2-0d2c-42b8-9dea-fe464309868a"
      },
      "source": [
        "# Criando uma função que determina permutacoes\n",
        "def bin_Npk(N,p,k):\n",
        "    binomial_Npk = math.factorial(N)/(math.factorial(k)*math.factorial(N-k))*(p**k)*((1-p)**(N-k))\n",
        "    return round(binomial_Npk, 5)\n",
        "\n",
        "# Espaço amostral cartas\n",
        "\n",
        "bin_Npk(100,0.95,95)\n",
        "\n"
      ],
      "execution_count": 130,
      "outputs": [
        {
          "output_type": "execute_result",
          "data": {
            "text/plain": [
              "0.18002"
            ]
          },
          "metadata": {
            "tags": []
          },
          "execution_count": 130
        }
      ]
    },
    {
      "cell_type": "code",
      "metadata": {
        "id": "xU0W91PYN7cY",
        "colab_type": "code",
        "colab": {
          "base_uri": "https://localhost:8080/",
          "height": 296
        },
        "outputId": "ca92f052-bb7d-4ee0-a934-374c6c5fc1c4"
      },
      "source": [
        "from scipy.stats import binom\n",
        "import matplotlib.pyplot as plt\n",
        "import numpy as np\n",
        "\n",
        "\n",
        "p = np.linspace(0.9,0.95,100)\n",
        "k = np.linspace(95, 100, 6)\n",
        "P = np.zeros((100,))\n",
        "for j in range(0,6):\n",
        "  Pk = np.zeros((100,))\n",
        "  for i in range(0,100):\n",
        "    aux = bin_Npk(100,p[i],k[j])\n",
        "    Pk[i] = Pk[i] + aux\n",
        "  P = P + Pk\n",
        "\n",
        "########\n",
        "plt.plot(p,P)\n",
        "plt.xlabel('Número de pessoas')\n",
        "plt.ylabel('Probabilidade')\n",
        "plt.title('Pelo menos duas pessoas com a mesma data de aniversário')\n",
        "plt.grid(True)\n",
        "plt.show()\n"
      ],
      "execution_count": 131,
      "outputs": [
        {
          "output_type": "display_data",
          "data": {
            "image/png": "[encoded data removed]",
            "text/plain": [
              "<Figure size 432x288 with 1 Axes>"
            ]
          },
          "metadata": {
            "tags": []
          }
        }
      ]
    }
  ]
}