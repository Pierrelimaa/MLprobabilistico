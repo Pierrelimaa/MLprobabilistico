{
  "nbformat": 4,
  "nbformat_minor": 0,
  "metadata": {
    "colab": {
      "name": "SIRCovid19.ipynb",
      "provenance": [],
      "toc_visible": true,
      "mount_file_id": "1Qn8BHDgiZ3ekV8k88JL67jJ0JRPWgHRL",
      "authorship_tag": "ABX9TyMovp2jiRtsisv4gUt7oFqn",
      "include_colab_link": true
    },
    "kernelspec": {
      "name": "python3",
      "display_name": "Python 3"
    }
  },
  "cells": [
    {
      "cell_type": "markdown",
      "metadata": {
        "id": "view-in-github",
        "colab_type": "text"
      },
      "source": [
        "<a href=\"https://colab.research.google.com/github/vparro/MLprobabilistico/blob/master/SIRCovid19.ipynb\" target=\"_parent\"><img src=\"https://colab.research.google.com/assets/colab-badge.svg\" alt=\"Open In Colab\"/></a>"
      ]
    },
    {
      "cell_type": "markdown",
      "metadata": {
        "id": "hZfMC9v7v3CL",
        "colab_type": "text"
      },
      "source": [
        "# Configurações básicas"
      ]
    },
    {
      "cell_type": "code",
      "metadata": {
        "id": "IWpqpeVhv1rb",
        "colab_type": "code",
        "colab": {
          "base_uri": "https://localhost:8080/",
          "height": 102
        },
        "outputId": "d7b83ca3-5a83-4a97-e7ae-7727b1b28daa"
      },
      "source": [
        "import pylab as pp\n",
        "import numpy as np\n",
        "import pandas as pd\n",
        "import matplotlib.pyplot as plt\n",
        "from scipy import integrate, interpolate\n",
        "from scipy import optimize\n",
        "from scipy.integrate import odeint\n",
        "!pip install lmfit\n",
        "from lmfit import minimize, Parameters, Parameter, report_fit\n",
        "from scipy.integrate import odeint"
      ],
      "execution_count": 24,
      "outputs": [
        {
          "output_type": "stream",
          "text": [
            "Requirement already satisfied: lmfit in /usr/local/lib/python3.6/dist-packages (1.0.0)\n",
            "Requirement already satisfied: scipy>=1.2 in /usr/local/lib/python3.6/dist-packages (from lmfit) (1.4.1)\n",
            "Requirement already satisfied: asteval>=0.9.16 in /usr/local/lib/python3.6/dist-packages (from lmfit) (0.9.18)\n",
            "Requirement already satisfied: numpy>=1.16 in /usr/local/lib/python3.6/dist-packages (from lmfit) (1.18.3)\n",
            "Requirement already satisfied: uncertainties>=3.0.1 in /usr/local/lib/python3.6/dist-packages (from lmfit) (3.1.2)\n"
          ],
          "name": "stdout"
        }
      ]
    },
    {
      "cell_type": "markdown",
      "metadata": {
        "id": "zN2shiWmv8jj",
        "colab_type": "text"
      },
      "source": [
        "# Referências"
      ]
    },
    {
      "cell_type": "markdown",
      "metadata": {
        "id": "Yk0WduBIt6Bu",
        "colab_type": "text"
      },
      "source": [
        "https://www.apple.com/covid19/mobility"
      ]
    },
    {
      "cell_type": "markdown",
      "metadata": {
        "id": "4k3LoQj0t1Js",
        "colab_type": "text"
      },
      "source": [
        "https://painel.covid19br.org"
      ]
    },
    {
      "cell_type": "markdown",
      "metadata": {
        "id": "DYqwWaE3ng02",
        "colab_type": "text"
      },
      "source": [
        "# **Dados sobre CoVid19 Brasil**"
      ]
    },
    {
      "cell_type": "code",
      "metadata": {
        "id": "wQgxRRshVoiL",
        "colab_type": "code",
        "outputId": "423d1215-daee-4901-e7c4-05bf3953b59b",
        "colab": {
          "base_uri": "https://localhost:8080/",
          "height": 309
        }
      },
      "source": [
        "# reading csv file  \n",
        "BRdata = pd.read_csv(\"/content/drive/My Drive/Colab Notebooks/PG_IMT/DadosEpidemia/CoVid19.csv\") \n",
        "BRdata.head()\n"
      ],
      "execution_count": 25,
      "outputs": [
        {
          "output_type": "execute_result",
          "data": {
            "text/html": [
              "<div>\n",
              "<style scoped>\n",
              "    .dataframe tbody tr th:only-of-type {\n",
              "        vertical-align: middle;\n",
              "    }\n",
              "\n",
              "    .dataframe tbody tr th {\n",
              "        vertical-align: top;\n",
              "    }\n",
              "\n",
              "    .dataframe thead th {\n",
              "        text-align: right;\n",
              "    }\n",
              "</style>\n",
              "<table border=\"1\" class=\"dataframe\">\n",
              "  <thead>\n",
              "    <tr style=\"text-align: right;\">\n",
              "      <th></th>\n",
              "      <th>date</th>\n",
              "      <th>country</th>\n",
              "      <th>state</th>\n",
              "      <th>city</th>\n",
              "      <th>newDeaths</th>\n",
              "      <th>deaths</th>\n",
              "      <th>newCases</th>\n",
              "      <th>totalCases</th>\n",
              "      <th>deathsMS</th>\n",
              "      <th>totalCasesMS</th>\n",
              "      <th>deaths_per_100k_inhabitants</th>\n",
              "      <th>totalCases_per_100k_inhabitants</th>\n",
              "      <th>deaths_by_totalCases</th>\n",
              "      <th>recovered</th>\n",
              "      <th>suspects</th>\n",
              "      <th>tests</th>\n",
              "      <th>tests_per_100k_inhabitants</th>\n",
              "    </tr>\n",
              "  </thead>\n",
              "  <tbody>\n",
              "    <tr>\n",
              "      <th>0</th>\n",
              "      <td>2020-02-25</td>\n",
              "      <td>Brazil</td>\n",
              "      <td>SP</td>\n",
              "      <td>TOTAL</td>\n",
              "      <td>0</td>\n",
              "      <td>0</td>\n",
              "      <td>1</td>\n",
              "      <td>1</td>\n",
              "      <td>0</td>\n",
              "      <td>0</td>\n",
              "      <td>0.0</td>\n",
              "      <td>0.00218</td>\n",
              "      <td>0.0</td>\n",
              "      <td>NaN</td>\n",
              "      <td>NaN</td>\n",
              "      <td>NaN</td>\n",
              "      <td>NaN</td>\n",
              "    </tr>\n",
              "    <tr>\n",
              "      <th>1</th>\n",
              "      <td>2020-02-25</td>\n",
              "      <td>Brazil</td>\n",
              "      <td>TOTAL</td>\n",
              "      <td>TOTAL</td>\n",
              "      <td>0</td>\n",
              "      <td>0</td>\n",
              "      <td>1</td>\n",
              "      <td>1</td>\n",
              "      <td>0</td>\n",
              "      <td>0</td>\n",
              "      <td>0.0</td>\n",
              "      <td>0.00048</td>\n",
              "      <td>0.0</td>\n",
              "      <td>NaN</td>\n",
              "      <td>NaN</td>\n",
              "      <td>NaN</td>\n",
              "      <td>NaN</td>\n",
              "    </tr>\n",
              "    <tr>\n",
              "      <th>2</th>\n",
              "      <td>2020-02-26</td>\n",
              "      <td>Brazil</td>\n",
              "      <td>SP</td>\n",
              "      <td>TOTAL</td>\n",
              "      <td>0</td>\n",
              "      <td>0</td>\n",
              "      <td>0</td>\n",
              "      <td>1</td>\n",
              "      <td>0</td>\n",
              "      <td>1</td>\n",
              "      <td>0.0</td>\n",
              "      <td>0.00218</td>\n",
              "      <td>0.0</td>\n",
              "      <td>NaN</td>\n",
              "      <td>NaN</td>\n",
              "      <td>NaN</td>\n",
              "      <td>NaN</td>\n",
              "    </tr>\n",
              "    <tr>\n",
              "      <th>3</th>\n",
              "      <td>2020-02-26</td>\n",
              "      <td>Brazil</td>\n",
              "      <td>TOTAL</td>\n",
              "      <td>TOTAL</td>\n",
              "      <td>0</td>\n",
              "      <td>0</td>\n",
              "      <td>0</td>\n",
              "      <td>1</td>\n",
              "      <td>0</td>\n",
              "      <td>1</td>\n",
              "      <td>0.0</td>\n",
              "      <td>0.00048</td>\n",
              "      <td>0.0</td>\n",
              "      <td>NaN</td>\n",
              "      <td>NaN</td>\n",
              "      <td>NaN</td>\n",
              "      <td>NaN</td>\n",
              "    </tr>\n",
              "    <tr>\n",
              "      <th>4</th>\n",
              "      <td>2020-02-27</td>\n",
              "      <td>Brazil</td>\n",
              "      <td>SP</td>\n",
              "      <td>TOTAL</td>\n",
              "      <td>0</td>\n",
              "      <td>0</td>\n",
              "      <td>0</td>\n",
              "      <td>1</td>\n",
              "      <td>0</td>\n",
              "      <td>1</td>\n",
              "      <td>0.0</td>\n",
              "      <td>0.00218</td>\n",
              "      <td>0.0</td>\n",
              "      <td>NaN</td>\n",
              "      <td>NaN</td>\n",
              "      <td>NaN</td>\n",
              "      <td>NaN</td>\n",
              "    </tr>\n",
              "  </tbody>\n",
              "</table>\n",
              "</div>"
            ],
            "text/plain": [
              "         date country  state  ... suspects  tests  tests_per_100k_inhabitants\n",
              "0  2020-02-25  Brazil     SP  ...      NaN    NaN                         NaN\n",
              "1  2020-02-25  Brazil  TOTAL  ...      NaN    NaN                         NaN\n",
              "2  2020-02-26  Brazil     SP  ...      NaN    NaN                         NaN\n",
              "3  2020-02-26  Brazil  TOTAL  ...      NaN    NaN                         NaN\n",
              "4  2020-02-27  Brazil     SP  ...      NaN    NaN                         NaN\n",
              "\n",
              "[5 rows x 17 columns]"
            ]
          },
          "metadata": {
            "tags": []
          },
          "execution_count": 25
        }
      ]
    },
    {
      "cell_type": "markdown",
      "metadata": {
        "id": "w0k2CNzcnsPx",
        "colab_type": "text"
      },
      "source": [
        "# **Filtrando e limpando os dados interessantes**"
      ]
    },
    {
      "cell_type": "code",
      "metadata": {
        "id": "YaoAxHb7mtTG",
        "colab_type": "code",
        "colab": {
          "base_uri": "https://localhost:8080/",
          "height": 309
        },
        "outputId": "02e9776b-1587-4d66-a329-addfeae6537c"
      },
      "source": [
        "is_SP =  BRdata['state']=='TOTAL'\n",
        "SPdata = BRdata[is_SP]\n",
        "# SPdata = SPdata.fillna(0)\n",
        "SPLimpo = SPdata[SPdata.recovered.notnull()]\n",
        "SPLimpo.head()"
      ],
      "execution_count": 26,
      "outputs": [
        {
          "output_type": "execute_result",
          "data": {
            "text/html": [
              "<div>\n",
              "<style scoped>\n",
              "    .dataframe tbody tr th:only-of-type {\n",
              "        vertical-align: middle;\n",
              "    }\n",
              "\n",
              "    .dataframe tbody tr th {\n",
              "        vertical-align: top;\n",
              "    }\n",
              "\n",
              "    .dataframe thead th {\n",
              "        text-align: right;\n",
              "    }\n",
              "</style>\n",
              "<table border=\"1\" class=\"dataframe\">\n",
              "  <thead>\n",
              "    <tr style=\"text-align: right;\">\n",
              "      <th></th>\n",
              "      <th>date</th>\n",
              "      <th>country</th>\n",
              "      <th>state</th>\n",
              "      <th>city</th>\n",
              "      <th>newDeaths</th>\n",
              "      <th>deaths</th>\n",
              "      <th>newCases</th>\n",
              "      <th>totalCases</th>\n",
              "      <th>deathsMS</th>\n",
              "      <th>totalCasesMS</th>\n",
              "      <th>deaths_per_100k_inhabitants</th>\n",
              "      <th>totalCases_per_100k_inhabitants</th>\n",
              "      <th>deaths_by_totalCases</th>\n",
              "      <th>recovered</th>\n",
              "      <th>suspects</th>\n",
              "      <th>tests</th>\n",
              "      <th>tests_per_100k_inhabitants</th>\n",
              "    </tr>\n",
              "  </thead>\n",
              "  <tbody>\n",
              "    <tr>\n",
              "      <th>321</th>\n",
              "      <td>2020-03-23</td>\n",
              "      <td>Brazil</td>\n",
              "      <td>TOTAL</td>\n",
              "      <td>TOTAL</td>\n",
              "      <td>9</td>\n",
              "      <td>34</td>\n",
              "      <td>358</td>\n",
              "      <td>1952</td>\n",
              "      <td>34</td>\n",
              "      <td>1891</td>\n",
              "      <td>0.01618</td>\n",
              "      <td>0.92887</td>\n",
              "      <td>0.01742</td>\n",
              "      <td>8.0</td>\n",
              "      <td>15867.0</td>\n",
              "      <td>NaN</td>\n",
              "      <td>NaN</td>\n",
              "    </tr>\n",
              "    <tr>\n",
              "      <th>349</th>\n",
              "      <td>2020-03-24</td>\n",
              "      <td>Brazil</td>\n",
              "      <td>TOTAL</td>\n",
              "      <td>TOTAL</td>\n",
              "      <td>13</td>\n",
              "      <td>47</td>\n",
              "      <td>303</td>\n",
              "      <td>2255</td>\n",
              "      <td>46</td>\n",
              "      <td>2201</td>\n",
              "      <td>0.02237</td>\n",
              "      <td>1.07306</td>\n",
              "      <td>0.02084</td>\n",
              "      <td>20.0</td>\n",
              "      <td>17700.0</td>\n",
              "      <td>NaN</td>\n",
              "      <td>NaN</td>\n",
              "    </tr>\n",
              "    <tr>\n",
              "      <th>377</th>\n",
              "      <td>2020-03-25</td>\n",
              "      <td>Brazil</td>\n",
              "      <td>TOTAL</td>\n",
              "      <td>TOTAL</td>\n",
              "      <td>12</td>\n",
              "      <td>59</td>\n",
              "      <td>311</td>\n",
              "      <td>2566</td>\n",
              "      <td>57</td>\n",
              "      <td>2433</td>\n",
              "      <td>0.02808</td>\n",
              "      <td>1.22105</td>\n",
              "      <td>0.02299</td>\n",
              "      <td>27.0</td>\n",
              "      <td>27227.0</td>\n",
              "      <td>NaN</td>\n",
              "      <td>NaN</td>\n",
              "    </tr>\n",
              "    <tr>\n",
              "      <th>405</th>\n",
              "      <td>2020-03-26</td>\n",
              "      <td>Brazil</td>\n",
              "      <td>TOTAL</td>\n",
              "      <td>TOTAL</td>\n",
              "      <td>18</td>\n",
              "      <td>77</td>\n",
              "      <td>424</td>\n",
              "      <td>2990</td>\n",
              "      <td>77</td>\n",
              "      <td>2915</td>\n",
              "      <td>0.03664</td>\n",
              "      <td>1.42281</td>\n",
              "      <td>0.02575</td>\n",
              "      <td>42.0</td>\n",
              "      <td>48793.0</td>\n",
              "      <td>NaN</td>\n",
              "      <td>NaN</td>\n",
              "    </tr>\n",
              "    <tr>\n",
              "      <th>433</th>\n",
              "      <td>2020-03-27</td>\n",
              "      <td>Brazil</td>\n",
              "      <td>TOTAL</td>\n",
              "      <td>TOTAL</td>\n",
              "      <td>16</td>\n",
              "      <td>93</td>\n",
              "      <td>486</td>\n",
              "      <td>3476</td>\n",
              "      <td>92</td>\n",
              "      <td>3417</td>\n",
              "      <td>0.04425</td>\n",
              "      <td>1.65408</td>\n",
              "      <td>0.02675</td>\n",
              "      <td>42.0</td>\n",
              "      <td>50684.0</td>\n",
              "      <td>NaN</td>\n",
              "      <td>NaN</td>\n",
              "    </tr>\n",
              "  </tbody>\n",
              "</table>\n",
              "</div>"
            ],
            "text/plain": [
              "           date country  state  ... suspects  tests  tests_per_100k_inhabitants\n",
              "321  2020-03-23  Brazil  TOTAL  ...  15867.0    NaN                         NaN\n",
              "349  2020-03-24  Brazil  TOTAL  ...  17700.0    NaN                         NaN\n",
              "377  2020-03-25  Brazil  TOTAL  ...  27227.0    NaN                         NaN\n",
              "405  2020-03-26  Brazil  TOTAL  ...  48793.0    NaN                         NaN\n",
              "433  2020-03-27  Brazil  TOTAL  ...  50684.0    NaN                         NaN\n",
              "\n",
              "[5 rows x 17 columns]"
            ]
          },
          "metadata": {
            "tags": []
          },
          "execution_count": 26
        }
      ]
    },
    {
      "cell_type": "code",
      "metadata": {
        "id": "ZyQjdo0xDT_B",
        "colab_type": "code",
        "colab": {}
      },
      "source": [
        "SPsir = SPLimpo[[ \"totalCases\", \"deaths\",\"recovered\"]].to_numpy()\n",
        "# SPsir = SPdata[[ \"totalCases\", \"deaths\",\"recovered\"]].to_numpy()\n",
        "SPsir[:,0:]\n",
        "SPI = SPsir[:,0]\n",
        "auxM = SPsir[:,1]\n",
        "SPM = auxM\n",
        "auxR = SPsir[:,2]\n",
        "SPR = auxR"
      ],
      "execution_count": 0,
      "outputs": []
    },
    {
      "cell_type": "markdown",
      "metadata": {
        "id": "DcgFHGftn3Zn",
        "colab_type": "text"
      },
      "source": [
        "**Visualizando os dados**"
      ]
    },
    {
      "cell_type": "code",
      "metadata": {
        "id": "K3DRxquWfG9m",
        "colab_type": "code",
        "outputId": "2d71a1f4-4a92-4238-84e7-2b8402846f84",
        "colab": {
          "base_uri": "https://localhost:8080/",
          "height": 606
        }
      },
      "source": [
        "# Visualizando a evolução da Epidemia - S(t), I(t) e R(t)\n",
        "\n",
        "fig = plt.figure(facecolor='w',figsize=(20,10))\n",
        "\n",
        "ax = fig.add_subplot(111, axisbelow=True)\n",
        "ax.plot(SPM, 'b', alpha=0.5, lw=2, label='Mortes')\n",
        "ax.plot(SPI, 'r', alpha=0.5, lw=2, label='Infectados')\n",
        "ax.plot(SPR, 'k', alpha=0.5, lw=2, label='Removidos')\n",
        "ax.set_xlabel('Dias')\n",
        "ax.set_ylabel('Indivíduos')\n",
        "ax.set_ylim(0,100000)\n",
        "ax.yaxis.set_tick_params(length=0)\n",
        "ax.xaxis.set_tick_params(length=0)\n",
        "\n",
        "ax.grid(b=True, which='major', c='w', lw=2, ls='-')\n",
        "legend = ax.legend()\n",
        "legend.get_frame().set_alpha(0.5)\n",
        "\n",
        "for spine in ('top', 'right', 'bottom', 'left'):\n",
        "    ax.spines[spine].set_visible(False)\n",
        "    \n",
        "plt.show()"
      ],
      "execution_count": 28,
      "outputs": [
        {
          "output_type": "display_data",
          "data": {
            "image/png": "[encoded data removed]",
            "text/plain": [
              "<Figure size 1440x720 with 1 Axes>"
            ]
          },
          "metadata": {
            "tags": []
          }
        }
      ]
    },
    {
      "cell_type": "markdown",
      "metadata": {
        "id": "BpRnVfs4_U2a",
        "colab_type": "text"
      },
      "source": [
        "# **O problema**\n",
        "\n",
        "\n",
        "\n",
        "\n",
        "\n",
        "\n",
        "\n"
      ]
    },
    {
      "cell_type": "markdown",
      "metadata": {
        "id": "LnAUup87_mlI",
        "colab_type": "text"
      },
      "source": [
        "O conjunto de equações diferenciais que caracteriza o modelo é descrito abaixo. No modelo $\\beta - \\text{representa a taxa de transmissão ou taxa efetiva de contato} $  e $r - \\text{a taxa de remoção ou recuperação.}$ \n",
        "\n",
        "\n",
        "$$ \\begin{split}\n",
        "   \\frac{dS(t)}{dt} & = -\\beta S(t) I(t) \\\\\n",
        "   \\frac{dI(t)}{dt} & = \\beta S(t) I(t) - rI(t)  \\\\\n",
        "   \\frac{dR(t)}{dt} & = r I(t)\n",
        "   \\end{split}$$\n",
        "\n",
        "   Gostaríamos de identificar quais parâmetros $\\beta$ e $r$ resultam num melhor ajuste do modelo para os dados de **S**,**I** e **R**"
      ]
    },
    {
      "cell_type": "code",
      "metadata": {
        "id": "UOQgMrtGIZ7v",
        "colab_type": "code",
        "colab": {}
      },
      "source": [
        "# Tamanho da população - N\n",
        "\n",
        "N = 220e6\n",
        "\n",
        "###############################################################################\n",
        "\n",
        "def SIRmodel(y, t, paras):\n",
        "    \"\"\"\n",
        "    Sistema de equações diferenciais\n",
        "    \"\"\"\n",
        "    S = y[0]\n",
        "    I = y[1]\n",
        "    R = y[2]\n",
        "\n",
        "    try:\n",
        "        Beta = paras['Beta'].value\n",
        "        r = paras['r'].value\n",
        "\n",
        "    except KeyError:\n",
        "        Beta, r = paras\n",
        "\n",
        "    # Equações\n",
        "\n",
        "    Sdot = -(Beta * S * I)\n",
        "    Idot = (Beta * S * I)  - r * I\n",
        "    Rdot = r * I\n",
        "    return [Sdot, Idot, Rdot]"
      ],
      "execution_count": 0,
      "outputs": []
    },
    {
      "cell_type": "markdown",
      "metadata": {
        "id": "Cgt4oecWB2w6",
        "colab_type": "text"
      },
      "source": [
        "# **Obtendo**  𝑦𝑠(𝜃,𝑘)=[𝑆𝐼𝑅] "
      ]
    },
    {
      "cell_type": "markdown",
      "metadata": {
        "id": "Oiw1vCw7BuH4",
        "colab_type": "text"
      },
      "source": [
        "\n",
        "\n",
        "O trecho a seguir retorna os valores sintetizados  𝑦𝑠(𝜃,𝑘)=[𝑆𝐼𝑅]  representa o dado sintetizado a partir de um modelo sintetizado para uma determinada amostra  𝑘  e  𝜃  representa o vetor ed parâmetros  𝜃=[𝛽𝑟]𝑇 . A partir de uma condição inicial  𝑦0 ."
      ]
    },
    {
      "cell_type": "code",
      "metadata": {
        "id": "_l-iGgQlBrTA",
        "colab_type": "code",
        "colab": {}
      },
      "source": [
        "###############################################################################\n",
        "\n",
        "def SIRsolve(t, x0, paras):\n",
        "    \"\"\"\n",
        "    Solution to the ODE x'(t) = f(t,x,k) with initial condition x(0) = x0\n",
        "    \"\"\"\n",
        "    x = odeint(SIRmodel, x0, t, args=(paras,))\n",
        "    return x"
      ],
      "execution_count": 0,
      "outputs": []
    },
    {
      "cell_type": "markdown",
      "metadata": {
        "id": "5AHqu7a-9bix",
        "colab_type": "text"
      },
      "source": [
        "# **Estimativa de parâmetros**"
      ]
    },
    {
      "cell_type": "markdown",
      "metadata": {
        "id": "s6Jp01u09bAU",
        "colab_type": "text"
      },
      "source": [
        "Para estimarmos os parâmetros do modelo $\\mathbf{\\beta}$ e $\\mathbf{r}$, vamos utilizar  inicialmente o método de mínimos quadrados. Podemos então formular o problema a partir da Equação abaixo. Na Equação $y_m(k)$ representa o dado real em cada amostra $k$; $y_s(\\theta,k)$ representa o **valor estimado** a partir da simulação do modelo para uma determinada amostra $k$ e $\\theta$ representa o vetor ed parâmetros $\\theta = [ \\beta \\; \\; r]^T$. \n",
        "\n",
        "$$ min_{\\theta}= \\sum_{k=1}^{K}(y_m(k) - y_s(\\theta,k))^2 $$\n",
        "\n",
        "A equação formula a pergunta: quais os valores de $beta$ e $r$ que minizam o erro quadrático quando comparados com os dados reais."
      ]
    },
    {
      "cell_type": "code",
      "metadata": {
        "id": "7gfnpCxZB_sC",
        "colab_type": "code",
        "colab": {}
      },
      "source": [
        "###############################################################################\n",
        "\n",
        "def residual(paras, t, data):\n",
        "\n",
        "    \"\"\"\n",
        "    compute the residual between actual data and fitted data\n",
        "    \"\"\"\n",
        "\n",
        "    x0 = paras['x10'].value, paras['x20'].value, paras['x30'].value\n",
        "    model = SIRsolve(t, x0, paras)\n",
        "\n",
        "    # you only have data for one of your variables\n",
        "    x2_model = np.concatenate([model[:, 1],model[:, 2]])\n",
        "    return (x2_model - data).ravel()"
      ],
      "execution_count": 0,
      "outputs": []
    },
    {
      "cell_type": "markdown",
      "metadata": {
        "id": "2XZ0c7CZCHmc",
        "colab_type": "text"
      },
      "source": [
        "# **Condições inicias** -  𝑦0  e  𝜃0 "
      ]
    },
    {
      "cell_type": "code",
      "metadata": {
        "id": "_a5vHwbRCBd8",
        "colab_type": "code",
        "colab": {}
      },
      "source": [
        "# initial conditions\n",
        "x10 = S0\n",
        "x20 = I0\n",
        "x30 = R0\n",
        "y0 = [x10, x20, x30]\n",
        "\n",
        "# measured data\n",
        "t_measured = np.linspace(0, len(SPsir), len(SPsir))\n",
        "x2_measured = np.concatenate([Id,Rd])\n",
        "\n",
        "# set parameters including bounds; you can also fix parameters (use vary=False)\n",
        "params = Parameters()\n",
        "params.add('x10', value=x10, vary=False)\n",
        "params.add('x20', value=x20, vary=False)\n",
        "params.add('x30', value=x30, vary=False)\n",
        "params.add('Beta', value=1e-8, min=1e-10, max=1e-3)\n",
        "params.add('r', value=5e-2, min=0.0001, max=0.2)"
      ],
      "execution_count": 0,
      "outputs": []
    },
    {
      "cell_type": "markdown",
      "metadata": {
        "id": "55UTpphGCbLp",
        "colab_type": "text"
      },
      "source": [
        "# **Minimização da função custo**"
      ]
    },
    {
      "cell_type": "code",
      "metadata": {
        "id": "3IijQOUMQ5Tw",
        "colab_type": "code",
        "colab": {}
      },
      "source": [
        "# fit model\n",
        "result = minimize(residual, params, args=(t_measured, x2_measured), method='leastsq')  # leastsq nelder"
      ],
      "execution_count": 0,
      "outputs": []
    },
    {
      "cell_type": "markdown",
      "metadata": {
        "id": "yD4UOPUqCmKD",
        "colab_type": "text"
      },
      "source": [
        "# **Visualização do ajuste**"
      ]
    },
    {
      "cell_type": "code",
      "metadata": {
        "id": "LEKIx_E_CrlQ",
        "colab_type": "code",
        "colab": {
          "base_uri": "https://localhost:8080/",
          "height": 881
        },
        "outputId": "e2cd58a3-edff-4db7-a701-69fa336dd1bc"
      },
      "source": [
        "# check results of the fit\n",
        "data_fitted = SIRsolve(t_measured, y0, result.params)\n",
        "\n",
        "# plot fitted data\n",
        "fig = plt.figure(facecolor='w',figsize=(20,10))\n",
        "plt.plot(t_measured, data_fitted[:, 2], '-', linewidth=2, color='red', label='fitted data')\n",
        "plt.plot(t_measured, data_fitted[:, 1], '-', linewidth=2, color='blue', label='fitted data')\n",
        "plt.plot(t_measured, Id, '-', linewidth=2, color='blue', label='real data',  marker='o')\n",
        "plt.plot(t_measured, Rd, '-', linewidth=2, color='black', label='real data', marker='*')\n",
        "plt.legend()\n",
        "plt.xlim([0, max(t_measured)])\n",
        "plt.ylim([0, 1.1 * max(data_fitted[:, 1])])\n",
        "# display fitted statistics\n",
        "report_fit(result)\n",
        "\n",
        "plt.show()"
      ],
      "execution_count": 34,
      "outputs": [
        {
          "output_type": "stream",
          "text": [
            "[[Fit Statistics]]\n",
            "    # fitting method   = leastsq\n",
            "    # function evals   = 68\n",
            "    # data points      = 82\n",
            "    # variables        = 2\n",
            "    chi-square         = 1.4655e+09\n",
            "    reduced chi-square = 18318288.1\n",
            "    Akaike info crit   = 1373.29486\n",
            "    Bayesian info crit = 1378.10830\n",
            "[[Variables]]\n",
            "    x10:   2.19998e+08 (fixed)\n",
            "    x20:   1952 (fixed)\n",
            "    x30:   8 (fixed)\n",
            "    Beta:  5.6980e-10 +/- 7.6828e-12 (1.35%) (init = 1e-08)\n",
            "    r:     0.02692136 +/- 0.00171876 (6.38%) (init = 0.05)\n",
            "[[Correlations]] (unreported correlations are < 0.100)\n",
            "    C(Beta, r) =  0.965\n"
          ],
          "name": "stdout"
        },
        {
          "output_type": "display_data",
          "data": {
            "image/png": "[encoded data removed]",
            "text/plain": [
              "<Figure size 1440x720 with 1 Axes>"
            ]
          },
          "metadata": {
            "tags": []
          }
        }
      ]
    },
    {
      "cell_type": "markdown",
      "metadata": {
        "id": "KPmOO4uNDGnS",
        "colab_type": "text"
      },
      "source": [
        "# **Predição utilizando o modelo**"
      ]
    },
    {
      "cell_type": "code",
      "metadata": {
        "id": "cfc4nBdrDO5G",
        "colab_type": "code",
        "colab": {
          "base_uri": "https://localhost:8080/",
          "height": 881
        },
        "outputId": "fc7e3d59-ff54-476f-b63f-0924bb010b0c"
      },
      "source": [
        "t_predict = np.linspace(0, len(SPsir)+7, len(SPsir)+7)\n",
        "\n",
        "# check results of the fit\n",
        "data_fitted = SIRsolve(t_sim, y0, result.params)\n",
        "\n",
        "# plot fitted data\n",
        "fig = plt.figure(facecolor='w',figsize=(20,10))\n",
        "plt.plot(t_sim, data_fitted[:, 2], '-', linewidth=2, color='red', label='fitted data')\n",
        "plt.plot(t_sim, data_fitted[:, 1], '-', linewidth=2, color='blue', label='fitted data')\n",
        "plt.plot(t_measured, Id, '-', linewidth=2, color='blue', label='real data',  marker='o')\n",
        "plt.plot(t_measured, Rd, '-', linewidth=2, color='black', label='real data', marker='*')\n",
        "plt.legend()\n",
        "plt.xlim([0, max(t_sim)])\n",
        "plt.ylim([0, 1.1 * max(data_fitted[:, 1])])\n",
        "# display fitted statistics\n",
        "report_fit(result)\n",
        "\n",
        "plt.show()"
      ],
      "execution_count": 36,
      "outputs": [
        {
          "output_type": "stream",
          "text": [
            "[[Fit Statistics]]\n",
            "    # fitting method   = leastsq\n",
            "    # function evals   = 68\n",
            "    # data points      = 82\n",
            "    # variables        = 2\n",
            "    chi-square         = 1.4655e+09\n",
            "    reduced chi-square = 18318288.1\n",
            "    Akaike info crit   = 1373.29486\n",
            "    Bayesian info crit = 1378.10830\n",
            "[[Variables]]\n",
            "    x10:   2.19998e+08 (fixed)\n",
            "    x20:   1952 (fixed)\n",
            "    x30:   8 (fixed)\n",
            "    Beta:  5.6980e-10 +/- 7.6828e-12 (1.35%) (init = 1e-08)\n",
            "    r:     0.02692136 +/- 0.00171876 (6.38%) (init = 0.05)\n",
            "[[Correlations]] (unreported correlations are < 0.100)\n",
            "    C(Beta, r) =  0.965\n"
          ],
          "name": "stdout"
        },
        {
          "output_type": "display_data",
          "data": {
            "image/png": "[encoded data removed]",
            "text/plain": [
              "<Figure size 1440x720 with 1 Axes>"
            ]
          },
          "metadata": {
            "tags": []
          }
        }
      ]
    }
  ]
}