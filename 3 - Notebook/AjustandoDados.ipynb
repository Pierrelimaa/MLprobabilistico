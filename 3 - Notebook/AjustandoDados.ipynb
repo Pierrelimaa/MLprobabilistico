{
  "nbformat": 4,
  "nbformat_minor": 0,
  "metadata": {
    "colab": {
      "name": "AjustandoDados.ipynb",
      "provenance": [],
      "authorship_tag": "ABX9TyNOhevsa1cTId6UiDlhkrfs",
      "include_colab_link": true
    },
    "kernelspec": {
      "name": "python3",
      "display_name": "Python 3"
    }
  },
  "cells": [
    {
      "cell_type": "markdown",
      "metadata": {
        "id": "view-in-github",
        "colab_type": "text"
      },
      "source": [
        "<a href=\"https://colab.research.google.com/github/vparro/MLprobabilistico/blob/master/AjustandoDados.ipynb\" target=\"_parent\"><img src=\"https://colab.research.google.com/assets/colab-badge.svg\" alt=\"Open In Colab\"/></a>"
      ]
    },
    {
      "cell_type": "markdown",
      "metadata": {
        "id": "hZfMC9v7v3CL",
        "colab_type": "text"
      },
      "source": [
        "# Configurações básicas"
      ]
    },
    {
      "cell_type": "code",
      "metadata": {
        "id": "IWpqpeVhv1rb",
        "colab_type": "code",
        "colab": {}
      },
      "source": [
        "import pylab as pp\n",
        "import numpy as np\n",
        "from scipy import integrate, interpolate\n",
        "from scipy import optimize"
      ],
      "execution_count": 0,
      "outputs": []
    },
    {
      "cell_type": "markdown",
      "metadata": {
        "id": "zN2shiWmv8jj",
        "colab_type": "text"
      },
      "source": [
        "# Referências"
      ]
    },
    {
      "cell_type": "markdown",
      "metadata": {
        "id": "9dc_x8SGwCxF",
        "colab_type": "text"
      },
      "source": [
        "https://stackoverflow.com/questions/11278836/fitting-data-to-system-of-odes-using-python-via-scipy-numpy"
      ]
    },
    {
      "cell_type": "code",
      "metadata": {
        "id": "xjKdR-BZv_Fq",
        "colab_type": "code",
        "colab": {}
      },
      "source": [
        "\n",
        "\n",
        "##initialize the data\n",
        "x_data = np.linspace(0,9,10)\n",
        "y_data = np.array([0.000,0.416,0.489,0.595,0.506,0.493,0.458,0.394,0.335,0.309])\n",
        "\n",
        "\n",
        "def f(y, t, k): \n",
        "    \"\"\"define the ODE system in terms of \n",
        "        dependent variable y,\n",
        "        independent variable t, and\n",
        "        optinal parmaeters, in this case a single variable k \"\"\"\n",
        "    return (-k[0]*y[0],\n",
        "          k[0]*y[0]-k[1]*y[1],\n",
        "          k[1]*y[1])\n",
        "\n",
        "def my_ls_func(x,teta):\n",
        "    \"\"\"definition of function for LS fit\n",
        "        x gives evaluation points,\n",
        "        teta is an array of parameters to be varied for fit\"\"\"\n",
        "    # create an alias to f which passes the optional params    \n",
        "    f2 = lambda y,t: f(y, t, teta)\n",
        "    # calculate ode solution, retuen values for each entry of \"x\"\n",
        "    r = integrate.odeint(f2,y0,x)\n",
        "    #in this case, we only need one of the dependent variable values\n",
        "    return r[:,1]\n",
        "\n",
        "def f_resid(p):\n",
        "    \"\"\" function to pass to optimize.leastsq\n",
        "        The routine will square and sum the values returned by \n",
        "        this function\"\"\" \n",
        "    return y_data-my_ls_func(x_data,p)\n",
        "#solve the system - the solution is in variable c\n",
        "guess = [0.2,0.3] #initial guess for params\n",
        "y0 = [1,0,0] #inital conditions for ODEs\n",
        "(c,kvg) = optimize.leastsq(f_resid, guess) \n",
        "#get params\n",
        "\n"
      ],
      "execution_count": 0,
      "outputs": []
    },
    {
      "cell_type": "code",
      "metadata": {
        "id": "xLTBYY_WwXb_",
        "colab_type": "code",
        "colab": {
          "base_uri": "https://localhost:8080/",
          "height": 628
        },
        "outputId": "7166b6fc-c5de-4b35-fc8b-ae9f9439bd91"
      },
      "source": [
        "# print \"parameter values are \",c\n",
        "print(c)\n",
        "\n",
        "# fit ODE results to interpolating spline just for fun\n",
        "xeval=np.linspace(min(x_data), max(x_data),30) \n",
        "gls = interpolate.UnivariateSpline(xeval, my_ls_func(xeval,c), k=3, s=0)\n",
        "\n",
        "#pick a few more points for a very smooth curve, then plot \n",
        "#   data and curve fit\n",
        "xeval=np.linspace(min(x_data), max(x_data),200)\n",
        "#Plot of the data as red dots and fit as blue line\n",
        "pp.figure(figsize=(15,10))\n",
        "pp.plot(x_data, y_data,'.r',xeval,gls(xeval),'-b')\n",
        "pp.xlabel('xlabel',{\"fontsize\":16})\n",
        "pp.ylabel(\"ylabel\",{\"fontsize\":16})\n",
        "pp.legend(('data','fit'),loc=0)\n",
        "pp.show()"
      ],
      "execution_count": 7,
      "outputs": [
        {
          "output_type": "stream",
          "text": [
            "[0.5221712 0.181713 ]\n"
          ],
          "name": "stdout"
        },
        {
          "output_type": "display_data",
          "data": {
            "image/png": "[encoded data removed]",
            "text/plain": [
              "<Figure size 1080x720 with 1 Axes>"
            ]
          },
          "metadata": {
            "tags": [],
            "needs_background": "light"
          }
        }
      ]
    }
  ]
}